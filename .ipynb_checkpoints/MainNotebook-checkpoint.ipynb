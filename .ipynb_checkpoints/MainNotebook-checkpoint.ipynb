{
 "cells": [
  {
   "cell_type": "code",
   "execution_count": null,
   "metadata": {
    "collapsed": true
   },
   "outputs": [],
   "source": [
    "#Importing libraries needed throughout the notebook\n",
    "#To get list of files to be loaded\n",
    "import glob\n",
    "#To load the csv's into a dataframe and manipulate data\n",
    "import pandas as pd"
   ]
  },
  {
   "cell_type": "code",
   "execution_count": null,
   "metadata": {},
   "outputs": [],
   "source": [
    "Meta_df = pd.DataFrame(columns=['code','name','latitude','longitude'])"
   ]
  },
  {
   "cell_type": "code",
   "execution_count": null,
   "metadata": {},
   "outputs": [],
   "source": [
    "#Loading all the datasets\n",
    "Meta_df=[]\n",
    "Data_df=[]\n",
    "for filename in glob.iglob('Dataset/**/*.csv', recursive=True):\n",
    "    #This a check used to identify a meta-data file\n",
    "    temp=pd.read_csv(filename)\n",
    "    if(\"Stations\" in filename):\n",
    "        Meta_df.append(temp)\n",
    "    else:\n",
    "        Data_df.append(temp)\n",
    "\n",
    "#Used to concat all the csv's together as a single dataframe\n",
    "Meta_df=pd.concat(Meta_df)\n",
    "Data_df=pd.concat(Data_df)"
   ]
  },
  {
   "cell_type": "code",
   "execution_count": null,
   "metadata": {},
   "outputs": [],
   "source": [
    "#This will drop all the duplicates as stations are repeated\n",
    "#Using keep='last' so that lates data about the station is preserved\n",
    "Meta_df=Meta_df.drop_duplicates(subset='code',keep ='last')"
   ]
  },
  {
   "cell_type": "code",
   "execution_count": null,
   "metadata": {
    "collapsed": true
   },
   "outputs": [],
   "source": [
    "#Merging the two dataframes using a left join so that all information is self contained in one df\n",
    "Meta_df_start=Meta_df.rename(index=str, columns={\n",
    "    \"code\": \"code_start\", \"name\": \"name_start\",\"latitude\":\"latitude_start\",\"longitude\":\"longitude_start\"})\n",
    "Meta_df_end=Meta_df.rename(index=str, columns={\n",
    "    \"code\": \"code_end\", \"name\": \"name_end\",\"latitude\":\"latitude_end\",\"longitude\":\"longitude_end\"})\n",
    "result=Data_df.merge(Meta_df_start, left_on='start_station_code', right_on='code_start', how='left')\n",
    "result=result.merge(Meta_df_end, left_on='end_station_code', right_on='code_end', how='left')"
   ]
  },
  {
   "cell_type": "code",
   "execution_count": 35,
   "metadata": {},
   "outputs": [
    {
     "data": {
      "text/html": [
       "<div>\n",
       "<style>\n",
       "    .dataframe thead tr:only-child th {\n",
       "        text-align: right;\n",
       "    }\n",
       "\n",
       "    .dataframe thead th {\n",
       "        text-align: left;\n",
       "    }\n",
       "\n",
       "    .dataframe tbody tr th {\n",
       "        vertical-align: top;\n",
       "    }\n",
       "</style>\n",
       "<table border=\"1\" class=\"dataframe\">\n",
       "  <thead>\n",
       "    <tr style=\"text-align: right;\">\n",
       "      <th></th>\n",
       "      <th>start_date</th>\n",
       "      <th>start_station_code</th>\n",
       "      <th>end_date</th>\n",
       "      <th>end_station_code</th>\n",
       "      <th>duration_sec</th>\n",
       "      <th>is_member</th>\n",
       "      <th>name_start</th>\n",
       "      <th>latitude_start</th>\n",
       "      <th>longitude_start</th>\n",
       "      <th>name_end</th>\n",
       "      <th>latitude_end</th>\n",
       "      <th>longitude_end</th>\n",
       "    </tr>\n",
       "  </thead>\n",
       "  <tbody>\n",
       "    <tr>\n",
       "      <th>0</th>\n",
       "      <td>2014-04-15 00:01</td>\n",
       "      <td>6209</td>\n",
       "      <td>2014-04-15 00:18</td>\n",
       "      <td>6436</td>\n",
       "      <td>1061</td>\n",
       "      <td>1</td>\n",
       "      <td>Milton / Clark</td>\n",
       "      <td>45.512520</td>\n",
       "      <td>-73.570620</td>\n",
       "      <td>Côte St-Antoine / Clarke</td>\n",
       "      <td>45.486452</td>\n",
       "      <td>-73.595234</td>\n",
       "    </tr>\n",
       "    <tr>\n",
       "      <th>1</th>\n",
       "      <td>2014-04-15 00:01</td>\n",
       "      <td>6214</td>\n",
       "      <td>2014-04-15 00:11</td>\n",
       "      <td>6248</td>\n",
       "      <td>615</td>\n",
       "      <td>1</td>\n",
       "      <td>Square St-Louis</td>\n",
       "      <td>45.517350</td>\n",
       "      <td>-73.569060</td>\n",
       "      <td>St-Dominique / Rachel</td>\n",
       "      <td>45.518593</td>\n",
       "      <td>-73.581566</td>\n",
       "    </tr>\n",
       "    <tr>\n",
       "      <th>2</th>\n",
       "      <td>2014-04-15 00:01</td>\n",
       "      <td>6164</td>\n",
       "      <td>2014-04-15 00:18</td>\n",
       "      <td>6216</td>\n",
       "      <td>1031</td>\n",
       "      <td>1</td>\n",
       "      <td>Chambord / Laurier</td>\n",
       "      <td>45.532955</td>\n",
       "      <td>-73.584194</td>\n",
       "      <td>Parc Jeanne Mance (monument à sir George-Étien...</td>\n",
       "      <td>45.514960</td>\n",
       "      <td>-73.585030</td>\n",
       "    </tr>\n",
       "    <tr>\n",
       "      <th>3</th>\n",
       "      <td>2014-04-15 00:01</td>\n",
       "      <td>6214</td>\n",
       "      <td>2014-04-15 00:24</td>\n",
       "      <td>6082</td>\n",
       "      <td>1382</td>\n",
       "      <td>1</td>\n",
       "      <td>Square St-Louis</td>\n",
       "      <td>45.517350</td>\n",
       "      <td>-73.569060</td>\n",
       "      <td>6e avenue / Rosemont</td>\n",
       "      <td>45.550613</td>\n",
       "      <td>-73.582883</td>\n",
       "    </tr>\n",
       "    <tr>\n",
       "      <th>4</th>\n",
       "      <td>2014-04-15 00:02</td>\n",
       "      <td>6149</td>\n",
       "      <td>2014-04-15 00:08</td>\n",
       "      <td>6265</td>\n",
       "      <td>347</td>\n",
       "      <td>1</td>\n",
       "      <td>Chapleau / du Mont-Royal</td>\n",
       "      <td>45.538670</td>\n",
       "      <td>-73.569360</td>\n",
       "      <td>Parthenais / St-Joseph</td>\n",
       "      <td>45.538544</td>\n",
       "      <td>-73.576133</td>\n",
       "    </tr>\n",
       "  </tbody>\n",
       "</table>\n",
       "</div>"
      ],
      "text/plain": [
       "         start_date  start_station_code          end_date end_station_code  \\\n",
       "0  2014-04-15 00:01                6209  2014-04-15 00:18             6436   \n",
       "1  2014-04-15 00:01                6214  2014-04-15 00:11             6248   \n",
       "2  2014-04-15 00:01                6164  2014-04-15 00:18             6216   \n",
       "3  2014-04-15 00:01                6214  2014-04-15 00:24             6082   \n",
       "4  2014-04-15 00:02                6149  2014-04-15 00:08             6265   \n",
       "\n",
       "   duration_sec  is_member                name_start  latitude_start  \\\n",
       "0          1061          1            Milton / Clark       45.512520   \n",
       "1           615          1           Square St-Louis       45.517350   \n",
       "2          1031          1        Chambord / Laurier       45.532955   \n",
       "3          1382          1           Square St-Louis       45.517350   \n",
       "4           347          1  Chapleau / du Mont-Royal       45.538670   \n",
       "\n",
       "   longitude_start                                           name_end  \\\n",
       "0       -73.570620                           Côte St-Antoine / Clarke   \n",
       "1       -73.569060                              St-Dominique / Rachel   \n",
       "2       -73.584194  Parc Jeanne Mance (monument à sir George-Étien...   \n",
       "3       -73.569060                               6e avenue / Rosemont   \n",
       "4       -73.569360                             Parthenais / St-Joseph   \n",
       "\n",
       "   latitude_end  longitude_end  \n",
       "0     45.486452     -73.595234  \n",
       "1     45.518593     -73.581566  \n",
       "2     45.514960     -73.585030  \n",
       "3     45.550613     -73.582883  \n",
       "4     45.538544     -73.576133  "
      ]
     },
     "execution_count": 35,
     "metadata": {},
     "output_type": "execute_result"
    }
   ],
   "source": [
    "#Dropping unnecessary columns\n",
    "result = result.drop(['code_start','code_end'], 1)\n",
    "result.head()"
   ]
  },
  {
   "cell_type": "code",
   "execution_count": null,
   "metadata": {
    "collapsed": true
   },
   "outputs": [],
   "source": []
  }
 ],
 "metadata": {
  "kernelspec": {
   "display_name": "Python 3",
   "language": "python",
   "name": "python3"
  },
  "language_info": {
   "codemirror_mode": {
    "name": "ipython",
    "version": 3
   },
   "file_extension": ".py",
   "mimetype": "text/x-python",
   "name": "python",
   "nbconvert_exporter": "python",
   "pygments_lexer": "ipython3",
   "version": "3.6.2"
  }
 },
 "nbformat": 4,
 "nbformat_minor": 2
}
